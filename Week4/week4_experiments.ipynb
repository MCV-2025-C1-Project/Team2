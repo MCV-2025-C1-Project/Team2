{
 "cells": [
  {
   "cell_type": "markdown",
   "id": "ba24e97b",
   "metadata": {},
   "source": [
    "## Setup"
   ]
  },
  {
   "cell_type": "code",
   "execution_count": null,
   "id": "f75d8966",
   "metadata": {},
   "outputs": [],
   "source": [
    "# Week 4 CBIR Experiments\n",
    "# -----------------------\n",
    "# Feature extraction, matching, and hyperparameter search for QSD1-W4.\n",
    "\n",
    "import os\n",
    "import cv2\n",
    "import numpy as np\n",
    "import matplotlib.pyplot as plt\n",
    "from tqdm import tqdm\n",
    "import json\n",
    "import itertools\n"
   ]
  },
  {
   "cell_type": "markdown",
   "id": "9dfc633b",
   "metadata": {},
   "source": [
    "## Load images"
   ]
  },
  {
   "cell_type": "code",
   "execution_count": null,
   "id": "c30d1f05",
   "metadata": {},
   "outputs": [],
   "source": [
    "def load_images_from_folder(folder):\n",
    "    images, filenames = [], []\n",
    "    for filename in sorted(os.listdir(folder)):\n",
    "        if filename.lower().endswith(('.jpg', '.png', '.jpeg')):\n",
    "            img = cv2.imread(os.path.join(folder, filename))\n",
    "            if img is not None:\n",
    "                images.append(img)\n",
    "                filenames.append(filename)\n",
    "    print(f\"Loaded {len(images)} images from {folder}\")\n",
    "    return images, filenames\n"
   ]
  },
  {
   "cell_type": "markdown",
   "id": "8f2cc72e",
   "metadata": {},
   "source": [
    "## Keypoint Detection"
   ]
  },
  {
   "cell_type": "code",
   "execution_count": null,
   "id": "5c6c6f8d",
   "metadata": {},
   "outputs": [],
   "source": [
    "def detect_keypoints(img, method='SIFT'):\n",
    "    gray = cv2.cvtColor(img, cv2.COLOR_BGR2GRAY)\n",
    "    method = method.upper()\n",
    "    if method == 'HARRIS':\n",
    "        gray = np.float32(gray)\n",
    "        dst = cv2.cornerHarris(gray, 2, 3, 0.04)\n",
    "        dst = cv2.dilate(dst, None)\n",
    "        kp = np.argwhere(dst > 0.01 * dst.max())\n",
    "        return [cv2.KeyPoint(float(x[1]), float(x[0]), 3) for x in kp]\n",
    "    elif method == 'FAST':\n",
    "        return cv2.FastFeatureDetector_create().detect(gray, None)\n",
    "    elif method == 'SIFT':\n",
    "        return cv2.SIFT_create().detect(gray, None)\n",
    "    elif method == 'ORB':\n",
    "        return cv2.ORB_create().detect(gray, None)\n",
    "    elif method == 'SURF':\n",
    "        return cv2.xfeatures2d.SURF_create(400).detect(gray, None)\n",
    "    else:\n",
    "        raise ValueError(\"Unknown method\")\n"
   ]
  },
  {
   "cell_type": "markdown",
   "id": "e8a8f8a7",
   "metadata": {},
   "source": [
    "## Descriptor Extraction"
   ]
  },
  {
   "cell_type": "code",
   "execution_count": null,
   "id": "2f03b43f",
   "metadata": {},
   "outputs": [],
   "source": [
    "def extract_descriptors(img, method='SIFT', kp=None):\n",
    "    gray = cv2.cvtColor(img, cv2.COLOR_BGR2GRAY)\n",
    "    method = method.upper()\n",
    "    if method == 'SIFT':\n",
    "        extractor = cv2.SIFT_create()\n",
    "    elif method == 'ORB':\n",
    "        extractor = cv2.ORB_create()\n",
    "    elif method == 'SURF':\n",
    "        extractor = cv2.xfeatures2d.SURF_create(400)\n",
    "    elif method in ['HARRIS', 'FAST']:\n",
    "        extractor = cv2.xfeatures2d.BriefDescriptorExtractor_create()\n",
    "    else:\n",
    "        raise ValueError(\"Unknown method\")\n",
    "    if kp is None:\n",
    "        kp, desc = extractor.detectAndCompute(gray, None)\n",
    "    else:\n",
    "        kp, desc = extractor.compute(gray, kp)\n",
    "    return kp, desc\n"
   ]
  },
  {
   "cell_type": "markdown",
   "id": "7140fcf5",
   "metadata": {},
   "source": [
    "## Visualize Keypoints"
   ]
  },
  {
   "cell_type": "code",
   "execution_count": null,
   "id": "18f06c6c",
   "metadata": {},
   "outputs": [],
   "source": [
    "def visualize_keypoints(img, kp):\n",
    "    vis = cv2.drawKeypoints(img, kp, None, color=(0,255,0))\n",
    "    plt.figure(figsize=(6,6))\n",
    "    plt.imshow(cv2.cvtColor(vis, cv2.COLOR_BGR2RGB))\n",
    "    plt.axis('off')\n",
    "    plt.show()\n"
   ]
  },
  {
   "cell_type": "markdown",
   "id": "c88daa3b",
   "metadata": {},
   "source": [
    "## Matching & Hyperparameter Experiment"
   ]
  },
  {
   "cell_type": "code",
   "execution_count": null,
   "id": "d329025a",
   "metadata": {},
   "outputs": [],
   "source": [
    "def ratio_test(matches, ratio=0.75):\n",
    "    good = []\n",
    "    for m,n in matches:\n",
    "        if m.distance < ratio * n.distance:\n",
    "            good.append(m)\n",
    "    return good\n",
    "\n",
    "def match_and_score(desc1, desc2, metric='L2', ratio=0.75, crosscheck=False):\n",
    "    if desc1 is None or desc2 is None:\n",
    "        return 0\n",
    "    if metric == 'L2':\n",
    "        matcher = cv2.BFMatcher(cv2.NORM_L2, crossCheck=crosscheck)\n",
    "    elif metric == 'HAMMING':\n",
    "        matcher = cv2.BFMatcher(cv2.NORM_HAMMING, crossCheck=crosscheck)\n",
    "    else:\n",
    "        raise ValueError(\"Unknown metric\")\n",
    "\n",
    "    matches = matcher.knnMatch(desc1, desc2, k=2)\n",
    "    good = ratio_test(matches, ratio)\n",
    "    return len(good)\n"
   ]
  },
  {
   "cell_type": "markdown",
   "id": "492ccf71",
   "metadata": {},
   "source": [
    "## Hyperparameter Search Loop"
   ]
  },
  {
   "cell_type": "code",
   "execution_count": null,
   "id": "12fd40d1",
   "metadata": {},
   "outputs": [],
   "source": [
    "def hyperparam_experiments(query_descs, museum_descs, method=\"SIFT\"):\n",
    "    metrics = ['L2'] if method in ['SIFT', 'SURF'] else ['HAMMING']\n",
    "    ratios = [0.6, 0.7, 0.8]\n",
    "    crosschecks = [False, True]\n",
    "    min_matches = [5, 10, 20]\n",
    "\n",
    "    results_summary = []\n",
    "\n",
    "    for metric, ratio, cc, min_m in itertools.product(metrics, ratios, crosschecks, min_matches):\n",
    "        total_best = []\n",
    "        for qdesc in tqdm(query_descs, desc=f\"{metric} r={ratio} cc={cc}\"):\n",
    "            scores = [match_and_score(qdesc, mdesc, metric, ratio, cc) for mdesc in museum_descs]\n",
    "            best = max(scores)\n",
    "            total_best.append(best)\n",
    "        avg_score = np.mean(total_best)\n",
    "        results_summary.append({\n",
    "            \"metric\": metric,\n",
    "            \"ratio\": ratio,\n",
    "            \"crosscheck\": cc,\n",
    "            \"min_matches\": min_m,\n",
    "            \"avg_best_score\": avg_score\n",
    "        })\n",
    "    return results_summary\n"
   ]
  },
  {
   "cell_type": "markdown",
   "id": "409b0af2",
   "metadata": {},
   "source": [
    "## Run Full Experiment"
   ]
  },
  {
   "cell_type": "code",
   "execution_count": null,
   "id": "18d1e372",
   "metadata": {},
   "outputs": [],
   "source": [
    "museum_imgs, _ = load_images_from_folder(\"datasets/museum\")\n",
    "query_imgs, _ = load_images_from_folder(\"datasets/qsd1_w4\")\n",
    "\n",
    "# Choose descriptor method\n",
    "method = \"SIFT\"\n",
    "\n",
    "# Extract descriptors\n",
    "museum_descs = [extract_descriptors(img, method)[1] for img in tqdm(museum_imgs)]\n",
    "query_descs = [extract_descriptors(img, method)[1] for img in tqdm(query_imgs)]\n",
    "\n",
    "# Run hyperparameter search\n",
    "summary = hyperparam_experiments(query_descs, museum_descs, method)\n",
    "for s in summary:\n",
    "    print(s)\n"
   ]
  },
  {
   "cell_type": "markdown",
   "id": "184f7f31",
   "metadata": {},
   "source": [
    "## Plot/Compare Results"
   ]
  },
  {
   "cell_type": "code",
   "execution_count": null,
   "id": "446035c1",
   "metadata": {},
   "outputs": [],
   "source": [
    "import pandas as pd\n",
    "df = pd.DataFrame(summary)\n",
    "df.sort_values(\"avg_best_score\", ascending=False)\n",
    "df.plot.bar(x='ratio', y='avg_best_score', title=f\"Performance ({method})\")\n",
    "plt.show()\n"
   ]
  }
 ],
 "metadata": {
  "language_info": {
   "name": "python"
  }
 },
 "nbformat": 4,
 "nbformat_minor": 5
}
