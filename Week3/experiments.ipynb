# Setup and imports
import os
import cv2
import numpy as np
import pickle
import matplotlib.pyplot as plt
from skimage.feature import local_binary_pattern
from scipy.fftpack import dct
from sklearn.metrics.pairwise import cosine_similarity
from rtu_noise_filter import fourier_noise_score, remove_noise_median, remove_noise_nlmeans

# Dataset paths
IMG_FOLDER_NOISY = "../Data/Week3/qsd1_w3/"
IMG_FOLDER_GT = "../Data/Week3/qsd1_w3/non_augmented/"
THRESHOLD = 40

os.makedirs("results/experiments", exist_ok=True)
