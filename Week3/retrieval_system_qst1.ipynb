{
 "cells": [
  {
   "cell_type": "code",
   "execution_count": null,
   "id": "f33c210a",
   "metadata": {},
   "outputs": [],
   "source": [
    "import cv2\n",
    "import numpy as np\n",
    "import os\n",
    "import pickle\n",
    "import matplotlib.pyplot as plt\n",
    "from sklearn.metrics.pairwise import cosine_similarity\n",
    "from descriptors import preprocess_image, extract_descriptor, extract_descriptors\n",
    "\n",
    "# Paths\n",
    "IMG_FOLDER = \"../Data/Week3/qst1_w3/\"\n",
    "IMG_FOLDER_GT = \"../Data/Week3/BBDD/\"\n",
    "DESC_GT_PATH = \"results/descriptors_gt.pkl\"\n",
    "RESULTS_PATH = \"results/query_to_gt_top10.pkl\"\n",
    "\n",
    "K = 10  # number of best matches to retrieve\n",
    "\n",
    "# --- 1. Load or compute GT descriptors ---\n",
    "if os.path.exists(DESC_GT_PATH):\n",
    "    print(f\"✅ Loading GT descriptors from {DESC_GT_PATH}\")\n",
    "    with open(DESC_GT_PATH, \"rb\") as f:\n",
    "        data = pickle.load(f)\n",
    "        desc_gt = data[\"desc_gt\"]\n",
    "        gt_names = data[\"gt_names\"]\n",
    "else:\n",
    "    print(\"🧠 Computing GT descriptors...\")\n",
    "    desc_gt, gt_names = extract_descriptors(IMG_FOLDER_GT, preprocess=False)\n",
    "    \n",
    "    # Save to file for later use\n",
    "    os.makedirs(os.path.dirname(DESC_GT_PATH), exist_ok=True)\n",
    "    with open(DESC_GT_PATH, \"wb\") as f:\n",
    "        pickle.dump({\"desc_gt\": desc_gt, \"gt_names\": gt_names}, f)\n",
    "    print(f\"💾 Saved GT descriptors to {DESC_GT_PATH}\")\n",
    "\n",
    "# --- 2. Process query images ---\n",
    "image_names = sorted([f for f in os.listdir(IMG_FOLDER) if f.endswith('.jpg')])\n",
    "results = []\n",
    "\n",
    "for img_name in image_names:\n",
    "    print(f\"\\nProcessing {img_name} ...\")\n",
    "    img_path = os.path.join(IMG_FOLDER, img_name)\n",
    "    img = cv2.imread(img_path)\n",
    "\n",
    "    if img is None:\n",
    "        print(f\"⚠️ Skipping {img_name}: could not read image.\")\n",
    "        continue\n",
    "\n",
    "    # Preprocess and extract descriptor\n",
    "    img = preprocess_image(img)\n",
    "    desc = extract_descriptor(img)\n",
    "\n",
    "    # --- 3. Compare with GT descriptors using cosine similarity ---\n",
    "    similarities = cosine_similarity([desc], desc_gt)[0]\n",
    "    \n",
    "    # Get indices of top-K most similar GT images\n",
    "    top_k_indices = np.argsort(-similarities)[:K]  # sort descending\n",
    "    results.append(top_k_indices.tolist())\n",
    "\n",
    "# --- 4. Save results ---\n",
    "os.makedirs(os.path.dirname(RESULTS_PATH), exist_ok=True)\n",
    "with open(RESULTS_PATH, \"wb\") as f:\n",
    "    pickle.dump(results, f)\n",
    "\n",
    "print(f\"\\n✅ Saved top-{K} retrieval results to {RESULTS_PATH}\")\n"
   ]
  },
  {
   "cell_type": "code",
   "execution_count": null,
   "id": "af3a51b4",
   "metadata": {},
   "outputs": [],
   "source": [
    "print(results)"
   ]
  }
 ],
 "metadata": {
  "kernelspec": {
   "display_name": "c1",
   "language": "python",
   "name": "python3"
  },
  "language_info": {
   "codemirror_mode": {
    "name": "ipython",
    "version": 3
   },
   "file_extension": ".py",
   "mimetype": "text/x-python",
   "name": "python",
   "nbconvert_exporter": "python",
   "pygments_lexer": "ipython3",
   "version": "3.12.11"
  }
 },
 "nbformat": 4,
 "nbformat_minor": 5
}
