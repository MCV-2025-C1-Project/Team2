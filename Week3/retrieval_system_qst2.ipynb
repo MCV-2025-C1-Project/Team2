{
 "cells": [
  {
   "cell_type": "code",
   "execution_count": null,
   "id": "7e5452c4",
   "metadata": {},
   "outputs": [
    {
     "name": "stdout",
     "output_type": "stream",
     "text": [
      "✅ Loading GT descriptors from results/descriptors_gt.pkl\n"
     ]
    },
    {
     "ename": "FileNotFoundError",
     "evalue": "[WinError 3] El sistema no puede encontrar la ruta especificada: '../Data/Week3/qst2_w3/non_augmented/'",
     "output_type": "error",
     "traceback": [
      "\u001b[31m---------------------------------------------------------------------------\u001b[39m",
      "\u001b[31mFileNotFoundError\u001b[39m                         Traceback (most recent call last)",
      "\u001b[36mCell\u001b[39m\u001b[36m \u001b[39m\u001b[32mIn[8]\u001b[39m\u001b[32m, line 46\u001b[39m\n\u001b[32m     42\u001b[39m     \u001b[38;5;28;01mreturn\u001b[39;00m image[y:y+h, x:x+w]\n\u001b[32m     45\u001b[39m \u001b[38;5;66;03m# --- 2. Process query images ---\u001b[39;00m\n\u001b[32m---> \u001b[39m\u001b[32m46\u001b[39m image_names = \u001b[38;5;28msorted\u001b[39m([f \u001b[38;5;28;01mfor\u001b[39;00m f \u001b[38;5;129;01min\u001b[39;00m \u001b[43mos\u001b[49m\u001b[43m.\u001b[49m\u001b[43mlistdir\u001b[49m\u001b[43m(\u001b[49m\u001b[43mIMG_FOLDER\u001b[49m\u001b[43m)\u001b[49m \u001b[38;5;28;01mif\u001b[39;00m f.endswith(\u001b[33m'\u001b[39m\u001b[33m.jpg\u001b[39m\u001b[33m'\u001b[39m)])\n\u001b[32m     47\u001b[39m results = []  \u001b[38;5;66;03m# list of lists: one (or two) sublists per query image\u001b[39;00m\n\u001b[32m     49\u001b[39m \u001b[38;5;28;01mfor\u001b[39;00m img_idx, img_name \u001b[38;5;129;01min\u001b[39;00m \u001b[38;5;28menumerate\u001b[39m(image_names):\n",
      "\u001b[31mFileNotFoundError\u001b[39m: [WinError 3] El sistema no puede encontrar la ruta especificada: '../Data/Week3/qst2_w3/non_augmented/'"
     ]
    }
   ],
   "source": [
    "import cv2\n",
    "import numpy as np\n",
    "import os\n",
    "import pickle\n",
    "import matplotlib.pyplot as plt\n",
    "from sklearn.metrics.pairwise import cosine_similarity\n",
    "from background_removal_exp import background_remover_w2\n",
    "from descriptors import preprocess_image, extract_descriptor, extract_descriptors\n",
    "from image_split_v2 import split_images\n",
    "\n",
    "# Paths\n",
    "IMG_FOLDER = \"../Data/Week3/qst2_w3/\"\n",
    "IMG_FOLDER_GT = \"../Data/Week3/BBDD/\"\n",
    "DESC_GT_PATH = \"results/descriptors_gt.pkl\"\n",
    "RESULTS_PATH = \"results/qst2_top10_results.pkl\"\n",
    "\n",
    "K = 10  # number of best results to retrieve\n",
    "\n",
    "# --- 1. Load or compute GT descriptors ---\n",
    "if os.path.exists(DESC_GT_PATH):\n",
    "    print(f\"✅ Loading GT descriptors from {DESC_GT_PATH}\")\n",
    "    with open(DESC_GT_PATH, \"rb\") as f:\n",
    "        data = pickle.load(f)\n",
    "        desc_gt = data[\"desc_gt\"]\n",
    "        gt_names = data[\"gt_names\"]\n",
    "else:\n",
    "    print(\"🧠 Computing GT descriptors...\")\n",
    "    desc_gt, gt_names = extract_descriptors(IMG_FOLDER_GT, preprocess=False)\n",
    "    os.makedirs(os.path.dirname(DESC_GT_PATH), exist_ok=True)\n",
    "    with open(DESC_GT_PATH, \"wb\") as f:\n",
    "        pickle.dump({\"desc_gt\": desc_gt, \"gt_names\": gt_names}, f)\n",
    "    print(f\"💾 Saved GT descriptors to {DESC_GT_PATH}\")\n",
    "\n",
    "\n",
    "def crop_to_mask_rectangle(image, mask):\n",
    "    \"\"\"Crop the image to the rectangular bounding box of the mask (removes black areas).\"\"\"\n",
    "    mask = (mask > 0).astype(np.uint8)\n",
    "    coords = cv2.findNonZero(mask)\n",
    "    if coords is None:\n",
    "        return image  # fallback if mask empty\n",
    "    x, y, w, h = cv2.boundingRect(coords)\n",
    "    return image[y:y+h, x:x+w]\n",
    "\n",
    "\n",
    "# --- 2. Process query images ---\n",
    "image_names = sorted([f for f in os.listdir(IMG_FOLDER) if f.endswith('.jpg')])\n",
    "results = []  # list of lists: one (or two) sublists per query image\n",
    "\n",
    "for img_idx, img_name in enumerate(image_names):\n",
    "    print(f\"\\nProcessing {img_name} ...\")\n",
    "    img_path = os.path.join(IMG_FOLDER, img_name)\n",
    "    img = cv2.imread(img_path)\n",
    "\n",
    "    if img is None:\n",
    "        print(f\"⚠️ Skipping {img_name}: could not read image.\")\n",
    "        continue\n",
    "\n",
    "    _,splitted = split_images(img)\n",
    "\n",
    "    artwork_results = []  # will hold one or two sublists for this image\n",
    "\n",
    "    # --- Two artworks ---\n",
    "    if isinstance(splitted, tuple):\n",
    "        left_artwork, right_artwork = splitted\n",
    "        for side, art in zip([\"Left\", \"Right\"], [left_artwork, right_artwork]):\n",
    "            art = preprocess_image(art)\n",
    "            _, mask, output, _ = background_remover_w2.remove_background_morphological_gradient(art)\n",
    "            cropped = crop_to_mask_rectangle(art, mask)\n",
    "            desc = extract_descriptor(cropped)\n",
    "\n",
    "            # Cosine similarity to GT descriptors\n",
    "            sims = cosine_similarity([desc], desc_gt)[0]\n",
    "            top_k = np.argsort(-sims)[:K].tolist()\n",
    "            artwork_results.append(top_k)\n",
    "\n",
    "            # Optional visualization\n",
    "            plt.imshow(cv2.cvtColor(cropped, cv2.COLOR_BGR2RGB))\n",
    "            plt.title(f\"{side} Artwork: {img_name}\")\n",
    "            plt.axis(\"off\")\n",
    "            plt.show()\n",
    "\n",
    "    # --- One artwork ---\n",
    "    else:\n",
    "        img = preprocess_image(splitted)\n",
    "        _, mask, output, _ = background_remover_w2.remove_background_morphological_gradient(img)\n",
    "        cropped = crop_to_mask_rectangle(img, mask)\n",
    "        desc = extract_descriptor(cropped)\n",
    "\n",
    "        sims = cosine_similarity([desc], desc_gt)[0]\n",
    "        top_k = np.argsort(-sims)[:K].tolist()\n",
    "        artwork_results.append(top_k)\n",
    "\n",
    "        plt.imshow(cv2.cvtColor(cropped, cv2.COLOR_BGR2RGB))\n",
    "        plt.title(f\"{img_name}\")\n",
    "        plt.axis(\"off\")\n",
    "        plt.show()\n",
    "\n",
    "    results.append(artwork_results)\n",
    "\n",
    "\n",
    "# --- 3. Save top-10 results ---\n",
    "os.makedirs(os.path.dirname(RESULTS_PATH), exist_ok=True)\n",
    "with open(RESULTS_PATH, \"wb\") as f:\n",
    "    pickle.dump(results, f)\n",
    "\n",
    "print(f\"\\n✅ Saved top-{K} retrieval results to {RESULTS_PATH}\")\n"
   ]
  },
  {
   "cell_type": "code",
   "execution_count": 7,
   "id": "5c5465e3",
   "metadata": {},
   "outputs": [
    {
     "name": "stdout",
     "output_type": "stream",
     "text": [
      "[[[262, 156, 48, 19, 286, 197, 88, 6, 210, 18]], [[108, 236, 36, 116, 49, 1, 280, 221, 147, 84]], [[151, 56, 284, 266, 209, 145, 202, 114, 178, 194]], [[156, 242, 161, 255, 16, 176, 132, 103, 39, 184]], [[241, 255, 184, 221, 243, 207, 194, 1, 269, 263]], [[47, 36, 232, 104, 251, 236, 35, 270, 49, 277]], [[284, 156, 97, 4, 22, 217, 17, 181, 51, 57]], [[193, 177, 217, 44, 253, 164, 97, 4, 22, 182]], [[109, 210, 32, 276, 281, 255, 144, 171, 16, 250], [221, 198, 165, 6, 280, 108, 25, 106, 267, 1]], [[58, 229, 141, 38, 67, 2, 178, 167, 192, 243]], [[109, 274, 250, 210, 16, 186, 18, 276, 161, 107]], [[53, 109, 193, 197, 70, 7, 182, 250, 254, 4]], [[55, 254, 62, 179, 148, 219, 78, 26, 121, 9]], [[280, 236, 164, 1, 250, 221, 100, 108, 36, 201]], [[259, 196, 215, 262, 116, 268, 183, 258, 235, 255]], [[124, 53, 72, 82, 129, 224, 197, 79, 3, 19]], [[144, 276, 281, 210, 255, 109, 167, 16, 164, 181]], [[81, 222, 93, 3, 251, 226, 30, 247, 14, 107]], [[176, 184, 130, 235, 132, 39, 23, 156, 94, 262]], [[78, 165, 106, 25, 254, 234, 198, 274, 148, 46]], [[53, 3, 107, 30, 247, 98, 54, 14, 250, 197]], [[100, 1, 221, 177, 16, 280, 164, 250, 97, 194]], [[182, 1, 97, 22, 194, 177, 156, 253, 44, 4], [140, 109, 12, 276, 245, 252, 144, 98, 107, 20]], [[65, 203, 164, 12, 8, 107, 74, 98, 35, 250]], [[97, 1, 186, 255, 181, 161, 22, 194, 210, 221]], [[94, 237, 23, 239, 69, 176, 194, 22, 151, 191], [132, 194, 22, 239, 1, 94, 184, 263, 156, 116]], [[127, 92, 269, 228, 42, 25, 175, 243, 167, 159], [138, 71, 109, 82, 282, 156, 161, 32, 124, 12]], [[15, 138, 139, 39, 228, 171, 213, 76, 176, 126]], [[235, 132, 184, 39, 156, 176, 243, 263, 130, 255], [248, 236, 193, 65, 164, 8, 120, 265, 44, 174]], [[193, 201, 7, 255, 22, 217, 284, 44, 164, 1], [268, 235, 184, 116, 258, 183, 56, 159, 194, 202]]]\n"
     ]
    }
   ],
   "source": [
    "print(results)"
   ]
  }
 ],
 "metadata": {
  "kernelspec": {
   "display_name": "c1",
   "language": "python",
   "name": "python3"
  },
  "language_info": {
   "codemirror_mode": {
    "name": "ipython",
    "version": 3
   },
   "file_extension": ".py",
   "mimetype": "text/x-python",
   "name": "python",
   "nbconvert_exporter": "python",
   "pygments_lexer": "ipython3",
   "version": "3.12.11"
  }
 },
 "nbformat": 4,
 "nbformat_minor": 5
}
