{
 "cells": [
  {
   "cell_type": "code",
   "execution_count": null,
   "id": "f56a02e7",
   "metadata": {},
   "outputs": [],
   "source": [
    "import cv2\n",
    "import numpy as np\n",
    "import os\n",
    "import matplotlib.pyplot as plt\n",
    "from background_removal_exp import background_remover_w2 as background_remover\n",
    "from descriptors import preprocess_image\n",
    "from image_split import split_images"
   ]
  },
  {
   "cell_type": "code",
   "execution_count": null,
   "id": "2817f937",
   "metadata": {},
   "outputs": [],
   "source": []
  },
  {
   "cell_type": "code",
   "execution_count": null,
   "id": "7376ee1c",
   "metadata": {},
   "outputs": [],
   "source": [
    "\n",
    "\n",
    "# Path to your new dataset\n",
    "IMG_FOLDER = \"../Data/Week3/qst2_w3/\"\n",
    "\n",
    "def process_images(img_folder):\n",
    "    \"\"\"Process all images in the folder.\"\"\"\n",
    "    image_names = sorted([f for f in os.listdir(img_folder) if f.endswith('.jpg')])\n",
    "\n",
    "    for img_name in image_names:\n",
    "        print(f\"Processing {img_name} ...\")\n",
    "        img_path = os.path.join(img_folder, img_name)\n",
    "        img = cv2.imread(img_path)\n",
    "\n",
    "        print(f\"Original image shape: {img.shape}\")\n",
    "\n",
    "        if img is None:\n",
    "            print(f\"⚠️ Skipping {img_name}: could not read image.\")\n",
    "            continue\n",
    "\n",
    "        # --- Separación de imágenes ---\n",
    "        splitted = split_images(preprocess_image(img))\n",
    "\n",
    "        # --- Evaluación y visualización ---\n",
    "        if isinstance(splitted, tuple):\n",
    "            left_artwork, right_artwork = splitted\n",
    "\n",
    "            #left_artwork = preprocess_image(left_artwork)\n",
    "            #right_artwork = preprocess_image(right_artwork)\n",
    "\n",
    "            _, left_mask, left_output, _ = background_remover.remove_background_morphological_gradient(left_artwork)\n",
    "            _, right_mask, right_output, _ = background_remover.remove_background_morphological_gradient(right_artwork)\n",
    "\n",
    "            print(f\"Left image shape: {left_output.shape}\")\n",
    "            print(f\"Right image shape: {right_output.shape}\")\n",
    "\n",
    "            plt.figure(figsize=(12, 6))\n",
    "            plt.subplot(1, 2, 1)\n",
    "            plt.imshow(cv2.cvtColor(left_output, cv2.COLOR_BGR2RGB))\n",
    "            plt.title(f\"Left Artwork: {img_name}\")\n",
    "            plt.axis('off')\n",
    "\n",
    "            plt.subplot(1, 2, 2)\n",
    "            plt.imshow(cv2.cvtColor(right_output, cv2.COLOR_BGR2RGB))\n",
    "            plt.title(f\"Right Artwork: {img_name}\")\n",
    "            plt.axis('off')\n",
    "\n",
    "        else:\n",
    "            #img = preprocess_image(splitted)\n",
    "            _, mask, output, _ = background_remover.remove_background_morphological_gradient(img)\n",
    "\n",
    "            plt.imshow(cv2.cvtColor(output, cv2.COLOR_BGR2RGB))\n",
    "            plt.title(f\"{img_name}\")\n",
    "            plt.axis('off')\n",
    "\n",
    "        plt.show()\n",
    "\n",
    "# Run the function\n",
    "process_images(IMG_FOLDER)"
   ]
  }
 ],
 "metadata": {
  "kernelspec": {
   "display_name": "c1",
   "language": "python",
   "name": "python3"
  },
  "language_info": {
   "codemirror_mode": {
    "name": "ipython",
    "version": 3
   },
   "file_extension": ".py",
   "mimetype": "text/x-python",
   "name": "python",
   "nbconvert_exporter": "python",
   "pygments_lexer": "ipython3",
   "version": "3.12.11"
  }
 },
 "nbformat": 4,
 "nbformat_minor": 5
}
